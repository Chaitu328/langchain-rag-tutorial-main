{
 "cells": [
  {
   "cell_type": "markdown",
   "metadata": {},
   "source": [
    "#Dependencies"
   ]
  },
  {
   "cell_type": "code",
   "execution_count": 1,
   "metadata": {},
   "outputs": [
    {
     "name": "stdout",
     "output_type": "stream",
     "text": [
      "Note: you may need to restart the kernel to use updated packages.\n"
     ]
    }
   ],
   "source": [
    "%pip install --upgrade --quiet  langchain langchain-community langchainhub langchain-openai langchain-chroma bs4"
   ]
  },
  {
   "cell_type": "code",
   "execution_count": 2,
   "metadata": {},
   "outputs": [
    {
     "name": "stdout",
     "output_type": "stream",
     "text": [
      "Requirement already satisfied: pdfplumber in c:\\users\\chait\\appdata\\local\\programs\\python\\python311\\lib\\site-packages (0.11.0)Note: you may need to restart the kernel to use updated packages.\n",
      "\n",
      "Requirement already satisfied: pdfminer.six==20231228 in c:\\users\\chait\\appdata\\local\\programs\\python\\python311\\lib\\site-packages (from pdfplumber) (20231228)\n",
      "Requirement already satisfied: Pillow>=9.1 in c:\\users\\chait\\appdata\\local\\programs\\python\\python311\\lib\\site-packages (from pdfplumber) (10.2.0)\n",
      "Requirement already satisfied: pypdfium2>=4.18.0 in c:\\users\\chait\\appdata\\local\\programs\\python\\python311\\lib\\site-packages (from pdfplumber) (4.29.0)\n",
      "Requirement already satisfied: charset-normalizer>=2.0.0 in c:\\users\\chait\\appdata\\local\\programs\\python\\python311\\lib\\site-packages (from pdfminer.six==20231228->pdfplumber) (3.3.2)\n",
      "Requirement already satisfied: cryptography>=36.0.0 in c:\\users\\chait\\appdata\\local\\programs\\python\\python311\\lib\\site-packages (from pdfminer.six==20231228->pdfplumber) (42.0.5)\n",
      "Requirement already satisfied: cffi>=1.12 in c:\\users\\chait\\appdata\\local\\programs\\python\\python311\\lib\\site-packages (from cryptography>=36.0.0->pdfminer.six==20231228->pdfplumber) (1.16.0)\n",
      "Requirement already satisfied: pycparser in c:\\users\\chait\\appdata\\local\\programs\\python\\python311\\lib\\site-packages (from cffi>=1.12->cryptography>=36.0.0->pdfminer.six==20231228->pdfplumber) (2.22)\n"
     ]
    }
   ],
   "source": [
    "%pip install pdfplumber"
   ]
  },
  {
   "cell_type": "code",
   "execution_count": 3,
   "metadata": {},
   "outputs": [],
   "source": [
    "import bs4\n",
    "from langchain import hub\n",
    "from langchain_community.document_loaders import WebBaseLoader\n",
    "from langchain_chroma import Chroma\n",
    "from langchain_core.output_parsers import StrOutputParser\n",
    "from langchain_core.runnables import RunnablePassthrough\n",
    "from langchain_openai import OpenAIEmbeddings\n",
    "from langchain_text_splitters import RecursiveCharacterTextSplitter"
   ]
  },
  {
   "cell_type": "code",
   "execution_count": 4,
   "metadata": {},
   "outputs": [
    {
     "name": "stdout",
     "output_type": "stream",
     "text": [
      "Note: you may need to restart the kernel to use updated packages.\n"
     ]
    }
   ],
   "source": [
    "%pip install -qU langchain-openai"
   ]
  },
  {
   "cell_type": "code",
   "execution_count": 5,
   "metadata": {},
   "outputs": [],
   "source": [
    "import getpass\n",
    "import os\n",
    "\n",
    "os.environ[\"OPENAI_API_KEY\"] = getpass.getpass()"
   ]
  },
  {
   "cell_type": "code",
   "execution_count": 17,
   "metadata": {},
   "outputs": [],
   "source": [
    "from langchain_openai import ChatOpenAI\n",
    "\n",
    "llm = ChatOpenAI(model=\"gpt-3.5-turbo-0125\")"
   ]
  },
  {
   "cell_type": "code",
   "execution_count": 62,
   "metadata": {},
   "outputs": [],
   "source": [
    "# Load, chunk and index the contents of the blog.\n",
    "# from langchain_community.document_loaders import PDFPlumberLoader\n",
    "# loader = PDFPlumberLoader(\"./data/machine_learning.pdf\")\n",
    "\n",
    "# for .txt:\n",
    "from langchain.document_loaders import TextLoader\n",
    "loader = TextLoader(\"./data/alice_in_wonderland.txt\", encoding = 'UTF-8')\n",
    "docs = loader.load()\n",
    "\n",
    "# for XML\n",
    "# from langchain_community.document_loaders import UnstructuredXMLLoader\n",
    "# loader = UnstructuredXMLLoader(\n",
    "#     \"example_data/factbook.xml\",\n",
    "# )\n",
    "# docs = loader.load()\n",
    "\n",
    "# for word:\n",
    "# %pip install --upgrade --quiet  docx2txt\n",
    "# from langchain_community.document_loaders import Docx2txtLoader\n",
    "# loader = Docx2txtLoader(\"example_data/fake.docx\")\n",
    "# docs = loader.load()\n",
    "\n"
   ]
  },
  {
   "cell_type": "code",
   "execution_count": 64,
   "metadata": {},
   "outputs": [],
   "source": [
    "# Split\n",
    "from langchain.text_splitter import RecursiveCharacterTextSplitter\n",
    "text_splitter = RecursiveCharacterTextSplitter(chunk_size = 500, chunk_overlap = 0)\n",
    "all_splits = text_splitter.split_documents(docs)"
   ]
  },
  {
   "cell_type": "code",
   "execution_count": 65,
   "metadata": {},
   "outputs": [],
   "source": [
    "# Store splits\n",
    "from langchain.embeddings import OpenAIEmbeddings\n",
    "from langchain.vectorstores import Chroma\n",
    "vectorstore = Chroma.from_documents(documents=all_splits, embedding=OpenAIEmbeddings())\n",
    "\n",
    "# RAG prompt\n",
    "from langchain import hub\n",
    "prompt = hub.pull(\"rlm/rag-prompt\")\n",
    "# i have taken template directly from langchainhub\n",
    "\n",
    "# LLM\n",
    "from langchain.chains import RetrievalQA\n",
    "from langchain.chat_models import ChatOpenAI\n",
    "llm = ChatOpenAI(model_name=\"gpt-3.5-turbo\", temperature=0)\n",
    "\n",
    "# RetrievalQA\n",
    "# here context is vectorstore.as_retriever() \n",
    "qa_chain = RetrievalQA.from_chain_type(\n",
    "    llm,\n",
    "    retriever=vectorstore.as_retriever(),\n",
    "    chain_type_kwargs={\"prompt\": prompt}\n",
    ")"
   ]
  },
  {
   "cell_type": "code",
   "execution_count": null,
   "metadata": {},
   "outputs": [],
   "source": [
    "question = \"whose resume is this?\"\n",
    "result = qa_chain({\"query\": question})\n",
    "result[\"result\"]"
   ]
  },
  {
   "cell_type": "code",
   "execution_count": 24,
   "metadata": {},
   "outputs": [
    {
     "name": "stdout",
     "output_type": "stream",
     "text": [
      "[HumanMessagePromptTemplate(prompt=PromptTemplate(input_variables=['context', 'question'], template=\"You are an assistant for question-answering tasks. Use the following pieces of retrieved context to answer the question. If you don't know the answer, just say that you don't know. Use three sentences maximum and keep the answer concise.\\nQuestion: {question} \\nContext: {context} \\nAnswer:\"))]\n"
     ]
    }
   ],
   "source": [
    "print(prompt.messages)"
   ]
  },
  {
   "cell_type": "code",
   "execution_count": 67,
   "metadata": {},
   "outputs": [],
   "source": [
    "# cleanup\n",
    "vectorstore.delete_collection()"
   ]
  },
  {
   "cell_type": "markdown",
   "metadata": {},
   "source": [
    "***\n",
    "For real-time information we use serpapi- using api\n",
    "***"
   ]
  },
  {
   "cell_type": "code",
   "execution_count": null,
   "metadata": {},
   "outputs": [],
   "source": [
    "%pip install google-search-results"
   ]
  },
  {
   "cell_type": "code",
   "execution_count": 73,
   "metadata": {},
   "outputs": [],
   "source": [
    "import getpass\n",
    "import os\n",
    "\n",
    "serpapi_api_key = os.environ[\"serpapi_api_key\"] = getpass.getpass()"
   ]
  },
  {
   "cell_type": "code",
   "execution_count": 75,
   "metadata": {},
   "outputs": [],
   "source": [
    "from langchain.agents import AgentType\n",
    "from langchain.agents import load_tools \n",
    "from langchain.agents import initialize_agent\n",
    "from langchain.llms import OpenAI"
   ]
  },
  {
   "cell_type": "code",
   "execution_count": 76,
   "metadata": {},
   "outputs": [],
   "source": [
    "tool=load_tools([\"serpapi\"],serpapi_api_key=serpapi_api_key,llm=llm)"
   ]
  },
  {
   "cell_type": "code",
   "execution_count": 77,
   "metadata": {},
   "outputs": [
    {
     "name": "stderr",
     "output_type": "stream",
     "text": [
      "c:\\Users\\chait\\AppData\\Local\\Programs\\Python\\Python311\\Lib\\site-packages\\langchain_core\\_api\\deprecation.py:117: LangChainDeprecationWarning: The function `initialize_agent` was deprecated in LangChain 0.1.0 and will be removed in 0.2.0. Use Use new agent constructor methods like create_react_agent, create_json_agent, create_structured_chat_agent, etc. instead.\n",
      "  warn_deprecated(\n"
     ]
    }
   ],
   "source": [
    "agent=initialize_agent(tool,llm,agent=AgentType.ZERO_SHOT_REACT_DESCRIPTION,verbose=True)"
   ]
  },
  {
   "cell_type": "code",
   "execution_count": 81,
   "metadata": {},
   "outputs": [
    {
     "name": "stderr",
     "output_type": "stream",
     "text": [
      "c:\\Users\\chait\\AppData\\Local\\Programs\\Python\\Python311\\Lib\\site-packages\\langchain_core\\_api\\deprecation.py:117: LangChainDeprecationWarning: The function `run` was deprecated in LangChain 0.1.0 and will be removed in 0.2.0. Use invoke instead.\n",
      "  warn_deprecated(\n"
     ]
    },
    {
     "name": "stdout",
     "output_type": "stream",
     "text": [
      "\n",
      "\n",
      "\u001b[1m> Entering new AgentExecutor chain...\u001b[0m\n",
      "\u001b[32;1m\u001b[1;3mI should search for the latest information on the Cricket World Cup winner.\n",
      "Action: Search\n",
      "Action Input: \"Cricket World Cup winner 2021\"\u001b[0m\n",
      "Observation: \u001b[36;1m\u001b[1;3m{'title': \"ICC Men's T20 World Cup\", 'thumbnail': 'https://serpapi.com/searches/661bf3c68ccee0d216849182/images/4406afe442f1753033ac98f0764bc2d4190deb86dd83d809d8d1243095eac367.png', 'games': [{'tournament': \"ICC Men's T20 World Cup\", 'stadium': 'Dubai International Stadium', 'date': 'Nov 14, 21', 'teams': [{'name': 'New Zealand', 'score': '172/4 (20)', 'thumbnail': 'https://serpapi.com/searches/661bf3c68ccee0d216849182/images/4406afe442f175304ab806339654480772fdf1e42de1074f0499b0ad5a48260afa5ef4a09b1b32aeabe997973f715616.png'}, {'name': 'Australia', 'score': '173/2 (18.5)', 'thumbnail': 'https://serpapi.com/searches/661bf3c68ccee0d216849182/images/4406afe442f175304ab806339654480772fdf1e42de1074f39dae8bf90813bbe1066f5ea4cc151c1ea3fde95ec0673d6.png'}], 'status': 'AUS won by 8 wickets (7 balls left)'}, {'tournament': \"ICC Men's T20 World Cup\", 'stadium': 'Dubai International Stadium', 'date': 'Nov 11, 21', 'teams': [{'name': 'Pakistan', 'score': '176/4 (20)', 'thumbnail': 'https://serpapi.com/searches/661bf3c68ccee0d216849182/images/4406afe442f175304ab8063396544807e560db86ad515145dddff6ba50a1ef417e9882ab771c7dc6c0cd9152f92b000b.png'}, {'name': 'Australia', 'score': '177/5 (19)', 'thumbnail': 'https://serpapi.com/searches/661bf3c68ccee0d216849182/images/4406afe442f175304ab8063396544807e560db86ad515145dfda427f473833b809d456989abe6e139f6cbcd64ae118f7.png'}], 'status': 'AUS won by 5 wickets (6 balls left)'}, {'tournament': \"ICC Men's T20 World Cup\", 'stadium': 'Sheikh Zayed Stadium', 'date': 'Nov 10, 21', 'teams': [{'name': 'England', 'score': '166/4 (20)', 'thumbnail': 'https://serpapi.com/searches/661bf3c68ccee0d216849182/images/4406afe442f175304ab80633965448077d41cc2cdf4a32cf1b213966207d48e3668981a1f3b36bc4f248678f5c081065.png'}, {'name': 'New Zealand', 'score': '167/5 (19)', 'thumbnail': 'https://serpapi.com/searches/661bf3c68ccee0d216849182/images/4406afe442f175304ab80633965448077d41cc2cdf4a32cf26a351ec6d2fcd0d42d4ecf7a4d7457771ff120b3b7ceb9b.png'}], 'status': 'NZ won by 5 wickets (6 balls left)'}, {'tournament': \"ICC Men's T20 World Cup\", 'stadium': 'Dubai International Stadium', 'date': 'Nov 8, 21', 'teams': [{'name': 'Namibia', 'score': '132/8 (20)', 'thumbnail': 'https://serpapi.com/searches/661bf3c68ccee0d216849182/images/4406afe442f175304ab806339654480769b02a77b47c2777a65ca64ac13457a0cf25dc54fe69d7fd6709ceb2cbb8a0ad.png'}, {'name': 'India', 'score': '136/1 (15.2)', 'thumbnail': 'https://serpapi.com/searches/661bf3c68ccee0d216849182/images/4406afe442f175304ab806339654480769b02a77b47c2777cded0e5a6fc67138e803f49b11a0c0fc8891ff2d5b5e6aff.png'}], 'status': 'IND won by 9 wickets (28 balls left)'}, {'tournament': \"ICC Men's T20 World Cup\", 'stadium': 'Sharjah Cricket Stadium', 'date': 'Nov 7, 21', 'teams': [{'name': 'Pakistan', 'score': '189/4 (20)', 'thumbnail': 'https://serpapi.com/searches/661bf3c68ccee0d216849182/images/4406afe442f175304ab806339654480780c2f894468ed2b0cadcedf9d01894e376a47dfe109678202cb69afc92a10550.png'}, {'name': 'Scotland', 'score': '117/6 (20)', 'thumbnail': 'https://serpapi.com/searches/661bf3c68ccee0d216849182/images/4406afe442f175304ab806339654480780c2f894468ed2b02f26a847f34f14e7ff84112105c6f167cfe92b8822ee4e83.png'}], 'status': 'PAK won by 72 runs'}, {'tournament': \"ICC Men's T20 World Cup\", 'stadium': 'Sheikh Zayed Stadium', 'date': 'Nov 7, 21', 'teams': [{'name': 'Afghanistan', 'score': '124/8 (20)', 'thumbnail': 'https://serpapi.com/searches/661bf3c68ccee0d216849182/images/4406afe442f175304ab8063396544807b76de42111ab7b9bbe06c798223024643c89262270a34f0c5d62f42032bbc131.png'}, {'name': 'New Zealand', 'score': '125/2 (18.1)', 'thumbnail': 'https://serpapi.com/searches/661bf3c68ccee0d216849182/images/4406afe442f175304ab8063396544807b76de42111ab7b9bd08b79dd2e5d1c922acab4f01e1374069668abb31bbbe79a.png'}], 'status': 'NZ won by 8 wickets (11 balls left)'}]}\u001b[0m\n",
      "Thought:\u001b[32;1m\u001b[1;3mThe recent winner of the Cricket World Cup is Australia.\n",
      "Final Answer: Australia\u001b[0m\n",
      "\n",
      "\u001b[1m> Finished chain.\u001b[0m\n"
     ]
    },
    {
     "data": {
      "text/plain": [
       "'Australia'"
      ]
     },
     "execution_count": 81,
     "metadata": {},
     "output_type": "execute_result"
    }
   ],
   "source": [
    "agent.run(\"can you tell who won the cricket worldcup recently?\")"
   ]
  }
 ],
 "metadata": {
  "kernelspec": {
   "display_name": "base",
   "language": "python",
   "name": "python3"
  },
  "language_info": {
   "codemirror_mode": {
    "name": "ipython",
    "version": 3
   },
   "file_extension": ".py",
   "mimetype": "text/x-python",
   "name": "python",
   "nbconvert_exporter": "python",
   "pygments_lexer": "ipython3",
   "version": "3.11.5"
  }
 },
 "nbformat": 4,
 "nbformat_minor": 2
}
